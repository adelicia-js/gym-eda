{
  "nbformat": 4,
  "nbformat_minor": 0,
  "metadata": {
    "colab": {
      "provenance": [],
      "collapsed_sections": [
        "xZ1TI68Y6L26",
        "V7KNQX0sxY-L"
      ],
      "include_colab_link": true
    },
    "kernelspec": {
      "name": "python3",
      "display_name": "Python 3"
    },
    "language_info": {
      "name": "python"
    }
  },
  "cells": [
    {
      "cell_type": "markdown",
      "metadata": {
        "id": "view-in-github",
        "colab_type": "text"
      },
      "source": [
        "<a href=\"https://colab.research.google.com/github/adelicia-js/gym-eda/blob/main/Gym_EDA.ipynb\" target=\"_parent\"><img src=\"https://colab.research.google.com/assets/colab-badge.svg\" alt=\"Open In Colab\"/></a>"
      ]
    },
    {
      "cell_type": "markdown",
      "source": [
        "# Exploratory Data Analysis, Using Python\n",
        "\n",
        "## Performed on a Gym Exercises Dataset \n",
        "(*Source: https://www.kaggle.com/datasets/niharika41298/gym-exercise-data*)\n",
        "\n",
        "## Libraries Used: \n",
        "  1. Pandas \n",
        "  2. Numpy \n",
        "  3. MatPlotLib\n",
        "  4. Seaborn\n",
        "  5. MissingNo\n",
        "\n"
      ],
      "metadata": {
        "id": "xZ1TI68Y6L26"
      }
    },
    {
      "cell_type": "markdown",
      "source": [
        "---\n",
        "## Importing Libraries\n",
        "\n",
        "---"
      ],
      "metadata": {
        "id": "abT0jM3ztakB"
      }
    },
    {
      "cell_type": "code",
      "execution_count": 72,
      "metadata": {
        "id": "-QmfTKK0rMBb"
      },
      "outputs": [],
      "source": [
        "import pandas as pd\n",
        "import numpy as np\n",
        "import matplotlib.pyplot as plt\n",
        "import seaborn as sns\n",
        "import missingno as msno"
      ]
    },
    {
      "cell_type": "markdown",
      "source": [
        "---\n",
        "## Importing Dataset\n",
        "\n",
        "---"
      ],
      "metadata": {
        "id": "Eq6BpXXdtqL6"
      }
    },
    {
      "cell_type": "code",
      "source": [
        "df = pd.read_csv('/content/megaGymDataset.csv')"
      ],
      "metadata": {
        "id": "0gW7CxEsttmp"
      },
      "execution_count": 73,
      "outputs": []
    },
    {
      "cell_type": "markdown",
      "source": [
        "---\n",
        "## Viewing the Dataset\n",
        "\n",
        "---\n"
      ],
      "metadata": {
        "id": "6ZdJW14FxIA4"
      }
    },
    {
      "cell_type": "code",
      "source": [
        "df.head()\n"
      ],
      "metadata": {
        "colab": {
          "base_uri": "https://localhost:8080/",
          "height": 206
        },
        "id": "3E7qaERrxEdW",
        "outputId": "486c68f7-b486-4b2a-e76f-3e802f0f4b18"
      },
      "execution_count": 74,
      "outputs": [
        {
          "output_type": "execute_result",
          "data": {
            "text/plain": [
              "   Unnamed: 0                         Title  \\\n",
              "0           0        Partner plank band row   \n",
              "1           1  Banded crunch isometric hold   \n",
              "2           2         FYR Banded Plank Jack   \n",
              "3           3                 Banded crunch   \n",
              "4           4                        Crunch   \n",
              "\n",
              "                                                Desc      Type    BodyPart  \\\n",
              "0  The partner plank band row is an abdominal exe...  Strength  Abdominals   \n",
              "1  The banded crunch isometric hold is an exercis...  Strength  Abdominals   \n",
              "2  The banded plank jack is a variation on the pl...  Strength  Abdominals   \n",
              "3  The banded crunch is an exercise targeting the...  Strength  Abdominals   \n",
              "4  The crunch is a popular core exercise targetin...  Strength  Abdominals   \n",
              "\n",
              "  Equipment         Level  Rating RatingDesc  \n",
              "0     Bands  Intermediate     0.0        NaN  \n",
              "1     Bands  Intermediate     NaN        NaN  \n",
              "2     Bands  Intermediate     NaN        NaN  \n",
              "3     Bands  Intermediate     NaN        NaN  \n",
              "4     Bands  Intermediate     NaN        NaN  "
            ],
            "text/html": [
              "\n",
              "  <div id=\"df-fe2e24d0-d439-49f5-adb9-34dca94bffae\">\n",
              "    <div class=\"colab-df-container\">\n",
              "      <div>\n",
              "<style scoped>\n",
              "    .dataframe tbody tr th:only-of-type {\n",
              "        vertical-align: middle;\n",
              "    }\n",
              "\n",
              "    .dataframe tbody tr th {\n",
              "        vertical-align: top;\n",
              "    }\n",
              "\n",
              "    .dataframe thead th {\n",
              "        text-align: right;\n",
              "    }\n",
              "</style>\n",
              "<table border=\"1\" class=\"dataframe\">\n",
              "  <thead>\n",
              "    <tr style=\"text-align: right;\">\n",
              "      <th></th>\n",
              "      <th>Unnamed: 0</th>\n",
              "      <th>Title</th>\n",
              "      <th>Desc</th>\n",
              "      <th>Type</th>\n",
              "      <th>BodyPart</th>\n",
              "      <th>Equipment</th>\n",
              "      <th>Level</th>\n",
              "      <th>Rating</th>\n",
              "      <th>RatingDesc</th>\n",
              "    </tr>\n",
              "  </thead>\n",
              "  <tbody>\n",
              "    <tr>\n",
              "      <th>0</th>\n",
              "      <td>0</td>\n",
              "      <td>Partner plank band row</td>\n",
              "      <td>The partner plank band row is an abdominal exe...</td>\n",
              "      <td>Strength</td>\n",
              "      <td>Abdominals</td>\n",
              "      <td>Bands</td>\n",
              "      <td>Intermediate</td>\n",
              "      <td>0.0</td>\n",
              "      <td>NaN</td>\n",
              "    </tr>\n",
              "    <tr>\n",
              "      <th>1</th>\n",
              "      <td>1</td>\n",
              "      <td>Banded crunch isometric hold</td>\n",
              "      <td>The banded crunch isometric hold is an exercis...</td>\n",
              "      <td>Strength</td>\n",
              "      <td>Abdominals</td>\n",
              "      <td>Bands</td>\n",
              "      <td>Intermediate</td>\n",
              "      <td>NaN</td>\n",
              "      <td>NaN</td>\n",
              "    </tr>\n",
              "    <tr>\n",
              "      <th>2</th>\n",
              "      <td>2</td>\n",
              "      <td>FYR Banded Plank Jack</td>\n",
              "      <td>The banded plank jack is a variation on the pl...</td>\n",
              "      <td>Strength</td>\n",
              "      <td>Abdominals</td>\n",
              "      <td>Bands</td>\n",
              "      <td>Intermediate</td>\n",
              "      <td>NaN</td>\n",
              "      <td>NaN</td>\n",
              "    </tr>\n",
              "    <tr>\n",
              "      <th>3</th>\n",
              "      <td>3</td>\n",
              "      <td>Banded crunch</td>\n",
              "      <td>The banded crunch is an exercise targeting the...</td>\n",
              "      <td>Strength</td>\n",
              "      <td>Abdominals</td>\n",
              "      <td>Bands</td>\n",
              "      <td>Intermediate</td>\n",
              "      <td>NaN</td>\n",
              "      <td>NaN</td>\n",
              "    </tr>\n",
              "    <tr>\n",
              "      <th>4</th>\n",
              "      <td>4</td>\n",
              "      <td>Crunch</td>\n",
              "      <td>The crunch is a popular core exercise targetin...</td>\n",
              "      <td>Strength</td>\n",
              "      <td>Abdominals</td>\n",
              "      <td>Bands</td>\n",
              "      <td>Intermediate</td>\n",
              "      <td>NaN</td>\n",
              "      <td>NaN</td>\n",
              "    </tr>\n",
              "  </tbody>\n",
              "</table>\n",
              "</div>\n",
              "      <button class=\"colab-df-convert\" onclick=\"convertToInteractive('df-fe2e24d0-d439-49f5-adb9-34dca94bffae')\"\n",
              "              title=\"Convert this dataframe to an interactive table.\"\n",
              "              style=\"display:none;\">\n",
              "        \n",
              "  <svg xmlns=\"http://www.w3.org/2000/svg\" height=\"24px\"viewBox=\"0 0 24 24\"\n",
              "       width=\"24px\">\n",
              "    <path d=\"M0 0h24v24H0V0z\" fill=\"none\"/>\n",
              "    <path d=\"M18.56 5.44l.94 2.06.94-2.06 2.06-.94-2.06-.94-.94-2.06-.94 2.06-2.06.94zm-11 1L8.5 8.5l.94-2.06 2.06-.94-2.06-.94L8.5 2.5l-.94 2.06-2.06.94zm10 10l.94 2.06.94-2.06 2.06-.94-2.06-.94-.94-2.06-.94 2.06-2.06.94z\"/><path d=\"M17.41 7.96l-1.37-1.37c-.4-.4-.92-.59-1.43-.59-.52 0-1.04.2-1.43.59L10.3 9.45l-7.72 7.72c-.78.78-.78 2.05 0 2.83L4 21.41c.39.39.9.59 1.41.59.51 0 1.02-.2 1.41-.59l7.78-7.78 2.81-2.81c.8-.78.8-2.07 0-2.86zM5.41 20L4 18.59l7.72-7.72 1.47 1.35L5.41 20z\"/>\n",
              "  </svg>\n",
              "      </button>\n",
              "      \n",
              "  <style>\n",
              "    .colab-df-container {\n",
              "      display:flex;\n",
              "      flex-wrap:wrap;\n",
              "      gap: 12px;\n",
              "    }\n",
              "\n",
              "    .colab-df-convert {\n",
              "      background-color: #E8F0FE;\n",
              "      border: none;\n",
              "      border-radius: 50%;\n",
              "      cursor: pointer;\n",
              "      display: none;\n",
              "      fill: #1967D2;\n",
              "      height: 32px;\n",
              "      padding: 0 0 0 0;\n",
              "      width: 32px;\n",
              "    }\n",
              "\n",
              "    .colab-df-convert:hover {\n",
              "      background-color: #E2EBFA;\n",
              "      box-shadow: 0px 1px 2px rgba(60, 64, 67, 0.3), 0px 1px 3px 1px rgba(60, 64, 67, 0.15);\n",
              "      fill: #174EA6;\n",
              "    }\n",
              "\n",
              "    [theme=dark] .colab-df-convert {\n",
              "      background-color: #3B4455;\n",
              "      fill: #D2E3FC;\n",
              "    }\n",
              "\n",
              "    [theme=dark] .colab-df-convert:hover {\n",
              "      background-color: #434B5C;\n",
              "      box-shadow: 0px 1px 3px 1px rgba(0, 0, 0, 0.15);\n",
              "      filter: drop-shadow(0px 1px 2px rgba(0, 0, 0, 0.3));\n",
              "      fill: #FFFFFF;\n",
              "    }\n",
              "  </style>\n",
              "\n",
              "      <script>\n",
              "        const buttonEl =\n",
              "          document.querySelector('#df-fe2e24d0-d439-49f5-adb9-34dca94bffae button.colab-df-convert');\n",
              "        buttonEl.style.display =\n",
              "          google.colab.kernel.accessAllowed ? 'block' : 'none';\n",
              "\n",
              "        async function convertToInteractive(key) {\n",
              "          const element = document.querySelector('#df-fe2e24d0-d439-49f5-adb9-34dca94bffae');\n",
              "          const dataTable =\n",
              "            await google.colab.kernel.invokeFunction('convertToInteractive',\n",
              "                                                     [key], {});\n",
              "          if (!dataTable) return;\n",
              "\n",
              "          const docLinkHtml = 'Like what you see? Visit the ' +\n",
              "            '<a target=\"_blank\" href=https://colab.research.google.com/notebooks/data_table.ipynb>data table notebook</a>'\n",
              "            + ' to learn more about interactive tables.';\n",
              "          element.innerHTML = '';\n",
              "          dataTable['output_type'] = 'display_data';\n",
              "          await google.colab.output.renderOutput(dataTable, element);\n",
              "          const docLink = document.createElement('div');\n",
              "          docLink.innerHTML = docLinkHtml;\n",
              "          element.appendChild(docLink);\n",
              "        }\n",
              "      </script>\n",
              "    </div>\n",
              "  </div>\n",
              "  "
            ]
          },
          "metadata": {},
          "execution_count": 74
        }
      ]
    },
    {
      "cell_type": "code",
      "source": [
        "df.columns\n"
      ],
      "metadata": {
        "colab": {
          "base_uri": "https://localhost:8080/"
        },
        "id": "nKjqpG7at60w",
        "outputId": "84f3844c-1925-46ea-efca-07bc8685782d"
      },
      "execution_count": 75,
      "outputs": [
        {
          "output_type": "execute_result",
          "data": {
            "text/plain": [
              "Index(['Unnamed: 0', 'Title', 'Desc', 'Type', 'BodyPart', 'Equipment', 'Level',\n",
              "       'Rating', 'RatingDesc'],\n",
              "      dtype='object')"
            ]
          },
          "metadata": {},
          "execution_count": 75
        }
      ]
    },
    {
      "cell_type": "code",
      "source": [
        "df.info(verbose=False)"
      ],
      "metadata": {
        "colab": {
          "base_uri": "https://localhost:8080/"
        },
        "id": "ENdG_LeG39CQ",
        "outputId": "299b2242-15d5-4b65-ef0e-d257fa2e5801"
      },
      "execution_count": 76,
      "outputs": [
        {
          "output_type": "stream",
          "name": "stdout",
          "text": [
            "<class 'pandas.core.frame.DataFrame'>\n",
            "RangeIndex: 2918 entries, 0 to 2917\n",
            "Columns: 9 entries, Unnamed: 0 to RatingDesc\n",
            "dtypes: float64(1), int64(1), object(7)\n",
            "memory usage: 205.3+ KB\n"
          ]
        }
      ]
    },
    {
      "cell_type": "markdown",
      "source": [
        "---\n",
        "###Observations:\n",
        "\n",
        "1. The dataset consists of 9 columns, and entries ranging from 0 to 2917.\n",
        "\n",
        "2. The columns in the dataset, before pre-processing are:\n",
        "\n",
        "  `'Unnamed: 0', 'Title', 'Desc', 'Type', 'BodyPart', 'Equipment', 'Level', 'Rating', 'RatingDesc'`\n",
        "\n",
        "3. The dataset consists of mostly non-numerical data, i.e., qualitative data. \n",
        "---\n",
        "\n"
      ],
      "metadata": {
        "id": "TWEADK7BwSH7"
      }
    },
    {
      "cell_type": "markdown",
      "source": [
        "# **Performing Data Preprocessing**\n",
        "\n",
        "---\n"
      ],
      "metadata": {
        "id": "V7KNQX0sxY-L"
      }
    },
    {
      "cell_type": "markdown",
      "source": [
        "## Detecting Missing Data\n",
        "\n",
        "---"
      ],
      "metadata": {
        "id": "SjjbzxHQ040N"
      }
    },
    {
      "cell_type": "code",
      "source": [
        "df.isnull().sum().sort_values(ascending = False)"
      ],
      "metadata": {
        "colab": {
          "base_uri": "https://localhost:8080/"
        },
        "id": "lzaxjDBxxhbV",
        "outputId": "469cff68-30f1-49af-a557-99597311fb30"
      },
      "execution_count": 77,
      "outputs": [
        {
          "output_type": "execute_result",
          "data": {
            "text/plain": [
              "RatingDesc    2056\n",
              "Rating        1887\n",
              "Desc          1550\n",
              "Unnamed: 0       0\n",
              "Title            0\n",
              "Type             0\n",
              "BodyPart         0\n",
              "Equipment        0\n",
              "Level            0\n",
              "dtype: int64"
            ]
          },
          "metadata": {},
          "execution_count": 77
        }
      ]
    },
    {
      "cell_type": "markdown",
      "source": [
        "---\n",
        "##Exploratory Analysis and Visualization of Missing Values in Dataset\n",
        "\n",
        "---"
      ],
      "metadata": {
        "id": "EtLqu1T61DEw"
      }
    },
    {
      "cell_type": "code",
      "source": [
        "msno.bar(df)"
      ],
      "metadata": {
        "colab": {
          "base_uri": "https://localhost:8080/",
          "height": 620
        },
        "id": "pz5YMybZ0r3i",
        "outputId": "07e860b5-0981-4019-96d2-b5f43906b40d"
      },
      "execution_count": 78,
      "outputs": [
        {
          "output_type": "execute_result",
          "data": {
            "text/plain": [
              "<Axes: >"
            ]
          },
          "metadata": {},
          "execution_count": 78
        },
        {
          "output_type": "display_data",
          "data": {
            "text/plain": [
              "<Figure size 2500x1000 with 3 Axes>"
            ],
            "image/png": "[encoded data removed]"
          },
          "metadata": {}
        }
      ]
    },
    {
      "cell_type": "markdown",
      "source": [
        "---\n",
        "The **Bar Chart** above displays the clear severity of missing values in the dataset, namely in the columns 'Desc', 'Rating' and 'RatingDesc'.\n",
        "\n",
        "---"
      ],
      "metadata": {
        "id": "ZZqC_2sp1u_2"
      }
    },
    {
      "cell_type": "code",
      "source": [
        "msno.matrix(df)"
      ],
      "metadata": {
        "colab": {
          "base_uri": "https://localhost:8080/",
          "height": 597
        },
        "id": "Xds0K5i01lBR",
        "outputId": "ea6f9009-6daf-4539-9da0-55f1644c61c3"
      },
      "execution_count": 79,
      "outputs": [
        {
          "output_type": "execute_result",
          "data": {
            "text/plain": [
              "<Axes: >"
            ]
          },
          "metadata": {},
          "execution_count": 79
        },
        {
          "output_type": "display_data",
          "data": {
            "text/plain": [
              "<Figure size 2500x1000 with 2 Axes>"
            ],
            "image/png": "[encoded data removed]"
          },
          "metadata": {}
        }
      ]
    },
    {
      "cell_type": "markdown",
      "source": [
        "---\n",
        "The **Matrix Plot** above locates missing values in the dataset, clearly in the columns Desc', 'Rating' and 'RatingDesc'.\n",
        "\n",
        "---"
      ],
      "metadata": {
        "id": "uLqUVJJx2F6F"
      }
    },
    {
      "cell_type": "code",
      "source": [
        "msno.heatmap(df)"
      ],
      "metadata": {
        "colab": {
          "base_uri": "https://localhost:8080/",
          "height": 875
        },
        "id": "72fMxS9Y1_id",
        "outputId": "201533ce-48cd-46c3-f145-3d265e6d8f2c"
      },
      "execution_count": 80,
      "outputs": [
        {
          "output_type": "execute_result",
          "data": {
            "text/plain": [
              "<Axes: >"
            ]
          },
          "metadata": {},
          "execution_count": 80
        },
        {
          "output_type": "display_data",
          "data": {
            "text/plain": [
              "<Figure size 2000x1200 with 2 Axes>"
            ],
            "image/png": "[encoded data removed]"
          },
          "metadata": {}
        }
      ]
    },
    {
      "cell_type": "markdown",
      "source": [
        "---\n",
        "The **Heatmap** above helps visualize the correspondence between missing values in the dataset. \n",
        "\n",
        "*'Rating' and 'RatingDesc' have a high correspondence*, while the columns 'Desc' & 'RatingDesc' and 'Desc' & 'Rating' do not have a very obvious correspondence.\n",
        "\n",
        "---"
      ],
      "metadata": {
        "id": "FFUrvJ662Uxw"
      }
    },
    {
      "cell_type": "markdown",
      "source": [
        "### Observations:\n",
        "- The columns that have a significantly high number of null values are:\n",
        "  - 'Desc'\n",
        "  - 'Rating'\n",
        "  - 'RatingDesc'\n",
        "\n",
        "- The columns 'Desc' & 'RatingDesc' will be dropped as they does not provide relevant information for EDA.\n",
        "\n",
        "- The null values of 'Rating' will be dropped.\n",
        "\n",
        "---"
      ],
      "metadata": {
        "id": "vx-rsqyD4ZPJ"
      }
    },
    {
      "cell_type": "markdown",
      "source": [
        "## Dropping Missing Data\n",
        "\n",
        "---"
      ],
      "metadata": {
        "id": "i4ECakBo7OCh"
      }
    },
    {
      "cell_type": "code",
      "source": [
        "df.drop(['Desc','RatingDesc'],axis=1,inplace=True)"
      ],
      "metadata": {
        "id": "9CzmDtb07iIi"
      },
      "execution_count": 81,
      "outputs": []
    },
    {
      "cell_type": "code",
      "source": [
        "df.columns"
      ],
      "metadata": {
        "colab": {
          "base_uri": "https://localhost:8080/"
        },
        "id": "6qj99yYn8He6",
        "outputId": "01347bab-530f-4cd3-a263-4f9fa1426c07"
      },
      "execution_count": 82,
      "outputs": [
        {
          "output_type": "execute_result",
          "data": {
            "text/plain": [
              "Index(['Unnamed: 0', 'Title', 'Type', 'BodyPart', 'Equipment', 'Level',\n",
              "       'Rating'],\n",
              "      dtype='object')"
            ]
          },
          "metadata": {},
          "execution_count": 82
        }
      ]
    },
    {
      "cell_type": "code",
      "source": [
        "df.dropna(subset=['Rating'],inplace=True)"
      ],
      "metadata": {
        "id": "8G83ldQ48MCN"
      },
      "execution_count": 83,
      "outputs": []
    },
    {
      "cell_type": "code",
      "source": [
        "df"
      ],
      "metadata": {
        "colab": {
          "base_uri": "https://localhost:8080/",
          "height": 424
        },
        "id": "VQfJJZ2i9aiV",
        "outputId": "05cc01a2-95b4-4403-872a-945d03cfe68f"
      },
      "execution_count": 84,
      "outputs": [
        {
          "output_type": "execute_result",
          "data": {
            "text/plain": [
              "      Unnamed: 0                                           Title         Type  \\\n",
              "0              0                          Partner plank band row     Strength   \n",
              "8              8                                Barbell roll-out     Strength   \n",
              "9              9                   Barbell Ab Rollout - On Knees     Strength   \n",
              "10            10                        Decline bar press sit-up     Strength   \n",
              "11            11                          Bench barbell roll-out     Strength   \n",
              "...          ...                                             ...          ...   \n",
              "2910        2910                              Supine Chest Throw  Plyometrics   \n",
              "2911        2911                     Decline EZ-bar skullcrusher     Strength   \n",
              "2912        2912                             EZ-Bar Skullcrusher     Strength   \n",
              "2913        2913                            EZ-bar skullcrusher-     Strength   \n",
              "2914        2914  Lying Close-Grip Barbell Triceps Press To Chin     Strength   \n",
              "\n",
              "        BodyPart      Equipment         Level  Rating  \n",
              "0     Abdominals          Bands  Intermediate     0.0  \n",
              "8     Abdominals        Barbell  Intermediate     8.9  \n",
              "9     Abdominals        Barbell  Intermediate     8.9  \n",
              "10    Abdominals        Barbell  Intermediate     8.5  \n",
              "11    Abdominals        Barbell      Beginner     8.3  \n",
              "...          ...            ...           ...     ...  \n",
              "2910     Triceps  Medicine Ball      Beginner     8.2  \n",
              "2911     Triceps   E-Z Curl Bar  Intermediate     9.3  \n",
              "2912     Triceps   E-Z Curl Bar  Intermediate     9.0  \n",
              "2913     Triceps   E-Z Curl Bar  Intermediate     8.1  \n",
              "2914     Triceps   E-Z Curl Bar      Beginner     8.1  \n",
              "\n",
              "[1031 rows x 7 columns]"
            ],
            "text/html": [
              "\n",
              "  <div id=\"df-ca2be1d3-8b09-4a6f-8f1b-dde25d7aea0e\">\n",
              "    <div class=\"colab-df-container\">\n",
              "      <div>\n",
              "<style scoped>\n",
              "    .dataframe tbody tr th:only-of-type {\n",
              "        vertical-align: middle;\n",
              "    }\n",
              "\n",
              "    .dataframe tbody tr th {\n",
              "        vertical-align: top;\n",
              "    }\n",
              "\n",
              "    .dataframe thead th {\n",
              "        text-align: right;\n",
              "    }\n",
              "</style>\n",
              "<table border=\"1\" class=\"dataframe\">\n",
              "  <thead>\n",
              "    <tr style=\"text-align: right;\">\n",
              "      <th></th>\n",
              "      <th>Unnamed: 0</th>\n",
              "      <th>Title</th>\n",
              "      <th>Type</th>\n",
              "      <th>BodyPart</th>\n",
              "      <th>Equipment</th>\n",
              "      <th>Level</th>\n",
              "      <th>Rating</th>\n",
              "    </tr>\n",
              "  </thead>\n",
              "  <tbody>\n",
              "    <tr>\n",
              "      <th>0</th>\n",
              "      <td>0</td>\n",
              "      <td>Partner plank band row</td>\n",
              "      <td>Strength</td>\n",
              "      <td>Abdominals</td>\n",
              "      <td>Bands</td>\n",
              "      <td>Intermediate</td>\n",
              "      <td>0.0</td>\n",
              "    </tr>\n",
              "    <tr>\n",
              "      <th>8</th>\n",
              "      <td>8</td>\n",
              "      <td>Barbell roll-out</td>\n",
              "      <td>Strength</td>\n",
              "      <td>Abdominals</td>\n",
              "      <td>Barbell</td>\n",
              "      <td>Intermediate</td>\n",
              "      <td>8.9</td>\n",
              "    </tr>\n",
              "    <tr>\n",
              "      <th>9</th>\n",
              "      <td>9</td>\n",
              "      <td>Barbell Ab Rollout - On Knees</td>\n",
              "      <td>Strength</td>\n",
              "      <td>Abdominals</td>\n",
              "      <td>Barbell</td>\n",
              "      <td>Intermediate</td>\n",
              "      <td>8.9</td>\n",
              "    </tr>\n",
              "    <tr>\n",
              "      <th>10</th>\n",
              "      <td>10</td>\n",
              "      <td>Decline bar press sit-up</td>\n",
              "      <td>Strength</td>\n",
              "      <td>Abdominals</td>\n",
              "      <td>Barbell</td>\n",
              "      <td>Intermediate</td>\n",
              "      <td>8.5</td>\n",
              "    </tr>\n",
              "    <tr>\n",
              "      <th>11</th>\n",
              "      <td>11</td>\n",
              "      <td>Bench barbell roll-out</td>\n",
              "      <td>Strength</td>\n",
              "      <td>Abdominals</td>\n",
              "      <td>Barbell</td>\n",
              "      <td>Beginner</td>\n",
              "      <td>8.3</td>\n",
              "    </tr>\n",
              "    <tr>\n",
              "      <th>...</th>\n",
              "      <td>...</td>\n",
              "      <td>...</td>\n",
              "      <td>...</td>\n",
              "      <td>...</td>\n",
              "      <td>...</td>\n",
              "      <td>...</td>\n",
              "      <td>...</td>\n",
              "    </tr>\n",
              "    <tr>\n",
              "      <th>2910</th>\n",
              "      <td>2910</td>\n",
              "      <td>Supine Chest Throw</td>\n",
              "      <td>Plyometrics</td>\n",
              "      <td>Triceps</td>\n",
              "      <td>Medicine Ball</td>\n",
              "      <td>Beginner</td>\n",
              "      <td>8.2</td>\n",
              "    </tr>\n",
              "    <tr>\n",
              "      <th>2911</th>\n",
              "      <td>2911</td>\n",
              "      <td>Decline EZ-bar skullcrusher</td>\n",
              "      <td>Strength</td>\n",
              "      <td>Triceps</td>\n",
              "      <td>E-Z Curl Bar</td>\n",
              "      <td>Intermediate</td>\n",
              "      <td>9.3</td>\n",
              "    </tr>\n",
              "    <tr>\n",
              "      <th>2912</th>\n",
              "      <td>2912</td>\n",
              "      <td>EZ-Bar Skullcrusher</td>\n",
              "      <td>Strength</td>\n",
              "      <td>Triceps</td>\n",
              "      <td>E-Z Curl Bar</td>\n",
              "      <td>Intermediate</td>\n",
              "      <td>9.0</td>\n",
              "    </tr>\n",
              "    <tr>\n",
              "      <th>2913</th>\n",
              "      <td>2913</td>\n",
              "      <td>EZ-bar skullcrusher-</td>\n",
              "      <td>Strength</td>\n",
              "      <td>Triceps</td>\n",
              "      <td>E-Z Curl Bar</td>\n",
              "      <td>Intermediate</td>\n",
              "      <td>8.1</td>\n",
              "    </tr>\n",
              "    <tr>\n",
              "      <th>2914</th>\n",
              "      <td>2914</td>\n",
              "      <td>Lying Close-Grip Barbell Triceps Press To Chin</td>\n",
              "      <td>Strength</td>\n",
              "      <td>Triceps</td>\n",
              "      <td>E-Z Curl Bar</td>\n",
              "      <td>Beginner</td>\n",
              "      <td>8.1</td>\n",
              "    </tr>\n",
              "  </tbody>\n",
              "</table>\n",
              "<p>1031 rows × 7 columns</p>\n",
              "</div>\n",
              "      <button class=\"colab-df-convert\" onclick=\"convertToInteractive('df-ca2be1d3-8b09-4a6f-8f1b-dde25d7aea0e')\"\n",
              "              title=\"Convert this dataframe to an interactive table.\"\n",
              "              style=\"display:none;\">\n",
              "        \n",
              "  <svg xmlns=\"http://www.w3.org/2000/svg\" height=\"24px\"viewBox=\"0 0 24 24\"\n",
              "       width=\"24px\">\n",
              "    <path d=\"M0 0h24v24H0V0z\" fill=\"none\"/>\n",
              "    <path d=\"M18.56 5.44l.94 2.06.94-2.06 2.06-.94-2.06-.94-.94-2.06-.94 2.06-2.06.94zm-11 1L8.5 8.5l.94-2.06 2.06-.94-2.06-.94L8.5 2.5l-.94 2.06-2.06.94zm10 10l.94 2.06.94-2.06 2.06-.94-2.06-.94-.94-2.06-.94 2.06-2.06.94z\"/><path d=\"M17.41 7.96l-1.37-1.37c-.4-.4-.92-.59-1.43-.59-.52 0-1.04.2-1.43.59L10.3 9.45l-7.72 7.72c-.78.78-.78 2.05 0 2.83L4 21.41c.39.39.9.59 1.41.59.51 0 1.02-.2 1.41-.59l7.78-7.78 2.81-2.81c.8-.78.8-2.07 0-2.86zM5.41 20L4 18.59l7.72-7.72 1.47 1.35L5.41 20z\"/>\n",
              "  </svg>\n",
              "      </button>\n",
              "      \n",
              "  <style>\n",
              "    .colab-df-container {\n",
              "      display:flex;\n",
              "      flex-wrap:wrap;\n",
              "      gap: 12px;\n",
              "    }\n",
              "\n",
              "    .colab-df-convert {\n",
              "      background-color: #E8F0FE;\n",
              "      border: none;\n",
              "      border-radius: 50%;\n",
              "      cursor: pointer;\n",
              "      display: none;\n",
              "      fill: #1967D2;\n",
              "      height: 32px;\n",
              "      padding: 0 0 0 0;\n",
              "      width: 32px;\n",
              "    }\n",
              "\n",
              "    .colab-df-convert:hover {\n",
              "      background-color: #E2EBFA;\n",
              "      box-shadow: 0px 1px 2px rgba(60, 64, 67, 0.3), 0px 1px 3px 1px rgba(60, 64, 67, 0.15);\n",
              "      fill: #174EA6;\n",
              "    }\n",
              "\n",
              "    [theme=dark] .colab-df-convert {\n",
              "      background-color: #3B4455;\n",
              "      fill: #D2E3FC;\n",
              "    }\n",
              "\n",
              "    [theme=dark] .colab-df-convert:hover {\n",
              "      background-color: #434B5C;\n",
              "      box-shadow: 0px 1px 3px 1px rgba(0, 0, 0, 0.15);\n",
              "      filter: drop-shadow(0px 1px 2px rgba(0, 0, 0, 0.3));\n",
              "      fill: #FFFFFF;\n",
              "    }\n",
              "  </style>\n",
              "\n",
              "      <script>\n",
              "        const buttonEl =\n",
              "          document.querySelector('#df-ca2be1d3-8b09-4a6f-8f1b-dde25d7aea0e button.colab-df-convert');\n",
              "        buttonEl.style.display =\n",
              "          google.colab.kernel.accessAllowed ? 'block' : 'none';\n",
              "\n",
              "        async function convertToInteractive(key) {\n",
              "          const element = document.querySelector('#df-ca2be1d3-8b09-4a6f-8f1b-dde25d7aea0e');\n",
              "          const dataTable =\n",
              "            await google.colab.kernel.invokeFunction('convertToInteractive',\n",
              "                                                     [key], {});\n",
              "          if (!dataTable) return;\n",
              "\n",
              "          const docLinkHtml = 'Like what you see? Visit the ' +\n",
              "            '<a target=\"_blank\" href=https://colab.research.google.com/notebooks/data_table.ipynb>data table notebook</a>'\n",
              "            + ' to learn more about interactive tables.';\n",
              "          element.innerHTML = '';\n",
              "          dataTable['output_type'] = 'display_data';\n",
              "          await google.colab.output.renderOutput(dataTable, element);\n",
              "          const docLink = document.createElement('div');\n",
              "          docLink.innerHTML = docLinkHtml;\n",
              "          element.appendChild(docLink);\n",
              "        }\n",
              "      </script>\n",
              "    </div>\n",
              "  </div>\n",
              "  "
            ]
          },
          "metadata": {},
          "execution_count": 84
        }
      ]
    },
    {
      "cell_type": "code",
      "source": [
        "df.info()"
      ],
      "metadata": {
        "colab": {
          "base_uri": "https://localhost:8080/"
        },
        "id": "_HD53w-X4Sgw",
        "outputId": "cbabcce2-4fab-4259-9a27-25a0c53832eb"
      },
      "execution_count": 85,
      "outputs": [
        {
          "output_type": "stream",
          "name": "stdout",
          "text": [
            "<class 'pandas.core.frame.DataFrame'>\n",
            "Int64Index: 1031 entries, 0 to 2914\n",
            "Data columns (total 7 columns):\n",
            " #   Column      Non-Null Count  Dtype  \n",
            "---  ------      --------------  -----  \n",
            " 0   Unnamed: 0  1031 non-null   int64  \n",
            " 1   Title       1031 non-null   object \n",
            " 2   Type        1031 non-null   object \n",
            " 3   BodyPart    1031 non-null   object \n",
            " 4   Equipment   1031 non-null   object \n",
            " 5   Level       1031 non-null   object \n",
            " 6   Rating      1031 non-null   float64\n",
            "dtypes: float64(1), int64(1), object(5)\n",
            "memory usage: 64.4+ KB\n"
          ]
        }
      ]
    },
    {
      "cell_type": "markdown",
      "source": [
        "---\n",
        "### Observations:\n",
        "1. The dataset now contains 7 rows and 1031 entries.\n",
        "\n",
        "---"
      ],
      "metadata": {
        "id": "bTp2EDu797ca"
      }
    },
    {
      "cell_type": "markdown",
      "source": [
        "## Feature Exploration\n",
        "\n",
        "---"
      ],
      "metadata": {
        "id": "rARQ1PgH5raw"
      }
    },
    {
      "cell_type": "markdown",
      "source": [
        "Exploring each feature\n",
        "\n",
        "---"
      ],
      "metadata": {
        "id": "jG0-XuIi_ow9"
      }
    },
    {
      "cell_type": "code",
      "source": [
        "df['Unnamed: 0'].nunique()"
      ],
      "metadata": {
        "colab": {
          "base_uri": "https://localhost:8080/"
        },
        "id": "R5RSUuHe-ZEi",
        "outputId": "9401595c-50dc-455b-c38b-515406539387"
      },
      "execution_count": 92,
      "outputs": [
        {
          "output_type": "execute_result",
          "data": {
            "text/plain": [
              "1031"
            ]
          },
          "metadata": {},
          "execution_count": 92
        }
      ]
    },
    {
      "cell_type": "code",
      "source": [
        "df['Unnamed: 0'].unique()\n"
      ],
      "metadata": {
        "colab": {
          "base_uri": "https://localhost:8080/"
        },
        "id": "Kx4QEjqk_F29",
        "outputId": "c45cd737-cc6b-45aa-877d-a4a9f8cd097b"
      },
      "execution_count": 95,
      "outputs": [
        {
          "output_type": "execute_result",
          "data": {
            "text/plain": [
              "array([   0,    8,    9, ..., 2912, 2913, 2914])"
            ]
          },
          "metadata": {},
          "execution_count": 95
        }
      ]
    },
    {
      "cell_type": "markdown",
      "source": [
        "---\n",
        "'Unnamed: 0' will be dropped due to it containing  irrelevant data for EDA.\n",
        "\n",
        "---"
      ],
      "metadata": {
        "id": "pQiwvLOe_tja"
      }
    },
    {
      "cell_type": "code",
      "source": [
        "df['Title'].nunique()"
      ],
      "metadata": {
        "colab": {
          "base_uri": "https://localhost:8080/"
        },
        "id": "UDIKS3_F-e5v",
        "outputId": "44f07613-236c-4037-83f5-23fa035b195a"
      },
      "execution_count": 90,
      "outputs": [
        {
          "output_type": "execute_result",
          "data": {
            "text/plain": [
              "1025"
            ]
          },
          "metadata": {},
          "execution_count": 90
        }
      ]
    },
    {
      "cell_type": "code",
      "source": [
        "df['Title'].unique()"
      ],
      "metadata": {
        "colab": {
          "base_uri": "https://localhost:8080/"
        },
        "id": "S883YegQ_I7d",
        "outputId": "0dc11ebc-2e38-43a4-bf48-a5ca544cb01c"
      },
      "execution_count": 96,
      "outputs": [
        {
          "output_type": "execute_result",
          "data": {
            "text/plain": [
              "array(['Partner plank band row', 'Barbell roll-out',\n",
              "       'Barbell Ab Rollout - On Knees', ..., 'EZ-Bar Skullcrusher',\n",
              "       'EZ-bar skullcrusher-',\n",
              "       'Lying Close-Grip Barbell Triceps Press To Chin'], dtype=object)"
            ]
          },
          "metadata": {},
          "execution_count": 96
        }
      ]
    },
    {
      "cell_type": "code",
      "source": [
        "df['Type'].nunique()"
      ],
      "metadata": {
        "colab": {
          "base_uri": "https://localhost:8080/"
        },
        "id": "BFwIf4Yr-lP0",
        "outputId": "86d722f2-41c6-4699-9a31-60d114d338e9"
      },
      "execution_count": 93,
      "outputs": [
        {
          "output_type": "execute_result",
          "data": {
            "text/plain": [
              "7"
            ]
          },
          "metadata": {},
          "execution_count": 93
        }
      ]
    },
    {
      "cell_type": "code",
      "source": [
        "df['Type'].unique()"
      ],
      "metadata": {
        "colab": {
          "base_uri": "https://localhost:8080/"
        },
        "id": "CeXrg42t_MVk",
        "outputId": "62d74d5c-14d6-466b-a638-294c2155f064"
      },
      "execution_count": 97,
      "outputs": [
        {
          "output_type": "execute_result",
          "data": {
            "text/plain": [
              "array(['Strength', 'Plyometrics', 'Stretching', 'Powerlifting',\n",
              "       'Strongman', 'Olympic Weightlifting', 'Cardio'], dtype=object)"
            ]
          },
          "metadata": {},
          "execution_count": 97
        }
      ]
    },
    {
      "cell_type": "code",
      "source": [
        "df['BodyPart'].nunique()"
      ],
      "metadata": {
        "colab": {
          "base_uri": "https://localhost:8080/"
        },
        "id": "3jqZpr5v-_RI",
        "outputId": "577bfee8-6cc3-4802-eae9-61fd4b774e92"
      },
      "execution_count": 94,
      "outputs": [
        {
          "output_type": "execute_result",
          "data": {
            "text/plain": [
              "17"
            ]
          },
          "metadata": {},
          "execution_count": 94
        }
      ]
    },
    {
      "cell_type": "code",
      "source": [
        "df['BodyPart'].unique()"
      ],
      "metadata": {
        "colab": {
          "base_uri": "https://localhost:8080/"
        },
        "id": "hHewXZMW_SuP",
        "outputId": "9a20e318-3b05-4354-f77e-110358bdf4ed"
      },
      "execution_count": 98,
      "outputs": [
        {
          "output_type": "execute_result",
          "data": {
            "text/plain": [
              "array(['Abdominals', 'Adductors', 'Abductors', 'Biceps', 'Calves',\n",
              "       'Chest', 'Forearms', 'Glutes', 'Hamstrings', 'Lats', 'Lower Back',\n",
              "       'Middle Back', 'Traps', 'Neck', 'Quadriceps', 'Shoulders',\n",
              "       'Triceps'], dtype=object)"
            ]
          },
          "metadata": {},
          "execution_count": 98
        }
      ]
    },
    {
      "cell_type": "code",
      "source": [
        "df['Equipment'].nunique()"
      ],
      "metadata": {
        "colab": {
          "base_uri": "https://localhost:8080/"
        },
        "id": "d3gO0eiG_EOn",
        "outputId": "3cdd656e-12f4-45e5-a699-a9179c4f5bdf"
      },
      "execution_count": 100,
      "outputs": [
        {
          "output_type": "execute_result",
          "data": {
            "text/plain": [
              "13"
            ]
          },
          "metadata": {},
          "execution_count": 100
        }
      ]
    },
    {
      "cell_type": "code",
      "source": [
        "df['Equipment'].unique()"
      ],
      "metadata": {
        "colab": {
          "base_uri": "https://localhost:8080/"
        },
        "id": "VWg9utbB_Udn",
        "outputId": "9224b09f-c512-4ff3-c178-22d7aee7a943"
      },
      "execution_count": 101,
      "outputs": [
        {
          "output_type": "execute_result",
          "data": {
            "text/plain": [
              "array(['Bands', 'Barbell', 'Kettlebells', 'Dumbbell', 'Other', 'Cable',\n",
              "       'Machine', 'Body Only', 'Medicine Ball', 'None', 'Exercise Ball',\n",
              "       'Foam Roll', 'E-Z Curl Bar'], dtype=object)"
            ]
          },
          "metadata": {},
          "execution_count": 101
        }
      ]
    },
    {
      "cell_type": "code",
      "source": [
        "df['Level'].nunique()"
      ],
      "metadata": {
        "colab": {
          "base_uri": "https://localhost:8080/"
        },
        "id": "BQ-6SAwa_aPt",
        "outputId": "f917b29b-5962-4a48-a877-397dde516401"
      },
      "execution_count": 103,
      "outputs": [
        {
          "output_type": "execute_result",
          "data": {
            "text/plain": [
              "3"
            ]
          },
          "metadata": {},
          "execution_count": 103
        }
      ]
    },
    {
      "cell_type": "code",
      "source": [
        "df['Level'].unique()"
      ],
      "metadata": {
        "colab": {
          "base_uri": "https://localhost:8080/"
        },
        "id": "DjhGgtab_dUy",
        "outputId": "39d56d3c-9ae3-446d-ea11-eb7522407c91"
      },
      "execution_count": 104,
      "outputs": [
        {
          "output_type": "execute_result",
          "data": {
            "text/plain": [
              "array(['Intermediate', 'Beginner', 'Expert'], dtype=object)"
            ]
          },
          "metadata": {},
          "execution_count": 104
        }
      ]
    },
    {
      "cell_type": "code",
      "source": [
        "df['Rating'].nunique()"
      ],
      "metadata": {
        "colab": {
          "base_uri": "https://localhost:8080/"
        },
        "id": "naJzF0hm_g4X",
        "outputId": "be75a655-4a9b-40e7-9879-064bb2ecf42c"
      },
      "execution_count": 105,
      "outputs": [
        {
          "output_type": "execute_result",
          "data": {
            "text/plain": [
              "72"
            ]
          },
          "metadata": {},
          "execution_count": 105
        }
      ]
    },
    {
      "cell_type": "code",
      "source": [
        "df['Rating'].unique()"
      ],
      "metadata": {
        "colab": {
          "base_uri": "https://localhost:8080/"
        },
        "id": "rV3BNGV2_kNM",
        "outputId": "f2a9f25c-adac-49a0-8e9d-46df4d98f6f3"
      },
      "execution_count": 106,
      "outputs": [
        {
          "output_type": "execute_result",
          "data": {
            "text/plain": [
              "array([0. , 8.9, 8.5, 8.3, 7. , 4.7, 7.7, 7.3, 9.3, 8.6, 9.5, 9.2, 9. ,\n",
              "       8.8, 8.4, 8. , 9.1, 8.2, 8.1, 7.9, 5. , 8.7, 7.8, 7.5, 7.4, 6.9,\n",
              "       6.5, 3.9, 6.4, 4. , 2.8, 6.7, 3.8, 2.4, 1.6, 7.1, 3.6, 3.2, 5.8,\n",
              "       7.6, 7.2, 4.8, 3.3, 1. , 6. , 5.3, 2.7, 6.3, 5.6, 4.1, 4.9, 4.2,\n",
              "       5.5, 5.9, 3. , 9.4, 6.2, 9.6, 2.5, 5.2, 6.6, 3.5, 3.1, 4.4, 4.3,\n",
              "       5.4, 4.5, 5.1, 5.7, 6.8, 3.4, 6.1])"
            ]
          },
          "metadata": {},
          "execution_count": 106
        }
      ]
    },
    {
      "cell_type": "code",
      "source": [
        "df.drop(['Unnamed: 0'], axis=1, inplace=True)"
      ],
      "metadata": {
        "id": "nghd_2oM_l5F"
      },
      "execution_count": 108,
      "outputs": []
    },
    {
      "cell_type": "code",
      "source": [
        "df.columns"
      ],
      "metadata": {
        "colab": {
          "base_uri": "https://localhost:8080/"
        },
        "id": "NIijFrbuAXTu",
        "outputId": "fa978e74-7300-4585-e06f-3b9e51e1b74e"
      },
      "execution_count": 109,
      "outputs": [
        {
          "output_type": "execute_result",
          "data": {
            "text/plain": [
              "Index(['Title', 'Type', 'BodyPart', 'Equipment', 'Level', 'Rating'], dtype='object')"
            ]
          },
          "metadata": {},
          "execution_count": 109
        }
      ]
    },
    {
      "cell_type": "code",
      "source": [
        "df.info(verbose=False)"
      ],
      "metadata": {
        "colab": {
          "base_uri": "https://localhost:8080/"
        },
        "id": "Y_8tJuJ9BDjM",
        "outputId": "878df4b5-af14-41ab-ba60-8d505119bdd5"
      },
      "execution_count": 111,
      "outputs": [
        {
          "output_type": "stream",
          "name": "stdout",
          "text": [
            "<class 'pandas.core.frame.DataFrame'>\n",
            "Int64Index: 1031 entries, 0 to 2914\n",
            "Columns: 6 entries, Title to Rating\n",
            "dtypes: float64(1), object(5)\n",
            "memory usage: 88.7+ KB\n"
          ]
        }
      ]
    },
    {
      "cell_type": "markdown",
      "source": [
        "---\n",
        "### Observations:\n",
        "1. The dataset now consists of 6 rows and 1031 entries.\n",
        "2. The dataset can now be carefully analyzed, and various visualizations can be formed accordingly.\n",
        "\n",
        "---"
      ],
      "metadata": {
        "id": "BqUNZuUmA9Ea"
      }
    },
    {
      "cell_type": "code",
      "source": [],
      "metadata": {
        "id": "Mi0imZDTAmvD"
      },
      "execution_count": null,
      "outputs": []
    }
  ]
}